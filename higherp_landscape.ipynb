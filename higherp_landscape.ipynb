{
 "cells": [
  {
   "cell_type": "code",
   "execution_count": null,
   "id": "597b36ee-8e4d-4dbc-91e1-06d94237eb89",
   "metadata": {},
   "outputs": [],
   "source": [
    "from utils import *\n",
    "from circuit_utils import *\n",
    "from optimizer import *\n",
    "import pickle\n",
    "import matplotlib.pyplot as plt\n",
    "import os\n",
    "import re"
   ]
  },
  {
   "cell_type": "markdown",
   "id": "3a807ccd-0bc2-4246-bc6b-a44f60c1187e",
   "metadata": {},
   "source": [
    "# Random dim"
   ]
  },
  {
   "cell_type": "code",
   "execution_count": null,
   "id": "d8e991bb-cd24-4b26-962e-733cda06c35d",
   "metadata": {},
   "outputs": [],
   "source": [
    "def random_orthogonal_vector(v):\n",
    "    if np.all(v == 0):\n",
    "        raise ValueError(\"The zero vector has no orthogonal vectors.\")\n",
    "    \n",
    "    w = 1*(2*np.random.rand(v.shape[0])-1)\n",
    "    w[-1] = 0\n",
    "\n",
    "    if v[-1] == 0:\n",
    "        w[0] = 0\n",
    "        w[-1] = -(np.dot(v, w) / v[0])\n",
    "    else:\n",
    "        w[-1] = -(np.dot(v, w) / v[-1])\n",
    "\n",
    "    return w"
   ]
  },
  {
   "cell_type": "code",
   "execution_count": null,
   "id": "5673bffe-66e3-403b-a710-22eb0bcd5043",
   "metadata": {},
   "outputs": [],
   "source": [
    "def get_files_with_char(folder_path, target_char):\n",
    "    all_files = os.listdir(folder_path)\n",
    "    match_files = [file for file in all_files if target_char in file]\n",
    "    return match_files"
   ]
  },
  {
   "cell_type": "markdown",
   "id": "67902f7e-5cc9-4fe0-9da4-2b65358334b9",
   "metadata": {
    "tags": []
   },
   "source": [
    "## large p"
   ]
  },
  {
   "cell_type": "code",
   "execution_count": null,
   "id": "6eebb2f5-ac52-4013-a06c-0825270dfca4",
   "metadata": {},
   "outputs": [],
   "source": [
    "folder_path = '/opt/omniai/work/instance1/jupyter/omniq/frugal/argonne/data/random_higherp'\n",
    "target_char = 'heatmap_10_5_0.5_seed1_p10_sk_randdim'\n",
    "# target_char = 'heatmap_10_5_0.5_seed1_p10_optpath_randdim'\n",
    "# target_char = 'heatmap_14_7_0.5_seed3_p8_optpath_randdim'\n",
    "files = get_files_with_char(folder_path,target_char)\n",
    "files"
   ]
  },
  {
   "cell_type": "code",
   "execution_count": null,
   "id": "e2dd2bf8-ce1e-4a6b-8000-75f11022c5bc",
   "metadata": {
    "tags": []
   },
   "outputs": [],
   "source": [
    "for file in files:\n",
    "    result =  np.load(folder_path + '/' + file)\n",
    "    if len(result) == 3:\n",
    "        dims = re.search(r'dim(\\d+)', file).group(1)\n",
    "        if len(result) == 2:\n",
    "            grid_result, fidelity_hm = result \n",
    "        else:\n",
    "            grid_result, fidelity_hm, ar_hm = result \n",
    "            ar_hm = ar_hm.real\n",
    "        grid_result = grid_result.real\n",
    "        fidelity_hm = fidelity_hm.real\n",
    "\n",
    "        min_gamma = 0\n",
    "        max_gamma = 1\n",
    "        min_beta = -1\n",
    "        max_beta = 1\n",
    "\n",
    "        plt.figure()\n",
    "        # plt.imshow(grid_result[:n_beta,:n_gamma], origin='lower', extent=[min_gamma, max_gamma, min_beta, max_beta], aspect=(min_gamma - max_gamma)/(min_beta-max_beta))\n",
    "        # plt.imshow(grid_result, origin='lower', extent=[min_gamma, max_gamma, min_beta, max_beta], aspect = 1)\n",
    "        plt.imshow(ar_hm, origin='lower', extent=[min_gamma, max_gamma, min_beta, max_beta], aspect = (max_gamma-min_gamma)/(max_beta-min_beta))\n",
    "        print(f'ini {ar_hm[50,0]}, best {np.max(ar_hm)}')\n",
    "        plt.colorbar()\n",
    "        plt.xlabel(f\"Random {dims}\")  \n",
    "        plt.ylabel(f\"Orth\") \n",
    "        plt.scatter(0, 0, marker='v', color=\"red\")\n",
    "        plt.title(f'AR')\n",
    "        plt.show()\n",
    "\n",
    "        ##########################\n",
    "        # plt.figure()\n",
    "        # # plt.imshow(fidelity_hm[:n_beta,:n_gamma], origin='lower', extent=[min_gamma, max_gamma, min_beta, max_beta], aspect=(min_gamma - max_gamma)/(min_beta-max_beta))\n",
    "        # plt.imshow(fidelity_hm, origin='lower', extent=[min_gamma, max_gamma, min_beta, max_beta], aspect = 1)\n",
    "        # plt.colorbar()\n",
    "        # plt.xlabel(f\"Dim {dims[0]}\")  \n",
    "        # plt.ylabel(f\"Dim {dims[1]}\") \n",
    "        # plt.scatter(0, 0, marker='v', color=\"red\")\n",
    "        # plt.title('Overlap')\n",
    "        # plt.show()"
   ]
  },
  {
   "cell_type": "markdown",
   "id": "f892c588-88a2-4558-b4dc-f2701333f753",
   "metadata": {},
   "source": [
    "## small p"
   ]
  },
  {
   "cell_type": "code",
   "execution_count": null,
   "id": "4320c216-550d-484a-88e1-619610cea73f",
   "metadata": {
    "tags": []
   },
   "outputs": [],
   "source": [
    "folder_path = '/opt/omniai/work/instance1/jupyter/omniq/frugal/argonne/data/random_higherp'\n",
    "# target_char = 'heatmap_14_7_0.5_seed3_p2_opt_randdim'\n",
    "target_char = 'heatmap_10_5_0.5_seed3_p1_sk_dim'\n",
    "files = get_files_with_char(folder_path,target_char)\n",
    "files"
   ]
  },
  {
   "cell_type": "code",
   "execution_count": null,
   "id": "c78d2b4c-d869-4266-9deb-b6b402a8015e",
   "metadata": {
    "jupyter": {
     "outputs_hidden": true
    },
    "tags": []
   },
   "outputs": [],
   "source": [
    "for file in files:\n",
    "    result =  np.load(folder_path + '/' + file)\n",
    "    if len(result) == 3:\n",
    "        dims = re.search(r'dim(\\d+)', file).group(1)\n",
    "        if len(result) == 2:\n",
    "            grid_result, fidelity_hm = result \n",
    "        else:\n",
    "            grid_result, fidelity_hm, ar_hm = result \n",
    "            ar_hm = ar_hm.real\n",
    "        grid_result = grid_result.real\n",
    "        fidelity_hm = fidelity_hm.real\n",
    "\n",
    "        min_gamma = 0\n",
    "        max_gamma = 1\n",
    "        min_beta = -1\n",
    "        max_beta = 1\n",
    "        \n",
    "        fig, (ax1, ax2) = plt.subplots(1, 2, figsize = (16,6))\n",
    "        # plt.imshow(grid_result[:n_beta,:n_gamma], origin='lower', extent=[min_gamma, max_gamma, min_beta, max_beta], aspect=(min_gamma - max_gamma)/(min_beta-max_beta))\n",
    "        # plt.imshow(grid_result, origin='lower', extent=[min_gamma, max_gamma, min_beta, max_beta], aspect = 1)\n",
    "        im1=ax1.imshow(ar_hm, origin='lower', extent=[min_gamma, max_gamma, min_beta, max_beta], aspect = (max_gamma-min_gamma)/(max_beta-min_beta))\n",
    "        print(f'ini {ar_hm[50,0]}, best {np.max(ar_hm)}')\n",
    "        fig.colorbar(im1,ax=ax1,shrink=1)\n",
    "        ax1.set_xlabel(f\"Random {dims}\")  \n",
    "        ax1.set_ylabel(f\"Orth\") \n",
    "        ax1.scatter(0, 0, marker='v', color=\"red\")\n",
    "        ax1.set_title(f'AR')\n",
    "        ##########\n",
    "        ax2.plot(ar_hm[50,:])\n",
    "        ax2.set_xlabel(f\"Random {dims}\")  \n",
    "        ax2.set_ylabel(f\"AR\") \n",
    "        \n",
    "        plt.show()"
   ]
  },
  {
   "cell_type": "markdown",
   "id": "4ccd9423-f2eb-4634-9482-e1e2d6dd9f75",
   "metadata": {},
   "source": [
    "## * opt path"
   ]
  },
  {
   "cell_type": "code",
   "execution_count": null,
   "id": "0ddb2504-3107-4e79-b8e3-ab3e2ea55cd7",
   "metadata": {},
   "outputs": [],
   "source": [
    "def get_files_with_char(folder_path, target_char):\n",
    "    all_files = os.listdir(folder_path)\n",
    "    if type(target_char) is list:\n",
    "        match_files = [file for file in all_files if target_char[0] in file and target_char[1] in file]\n",
    "    else:\n",
    "        match_files = [file for file in all_files if target_char in file]\n",
    "    return match_files"
   ]
  },
  {
   "cell_type": "code",
   "execution_count": null,
   "id": "fad09117-f927-40bf-9d11-b340b04930f5",
   "metadata": {},
   "outputs": [],
   "source": [
    "folder_path = '/opt/omniai/work/instance1/jupyter/omniq/frugal/argonne/data/random_higherp'\n",
    "### seed[1, 3]\n",
    "# target_char = 'heatmap_14_7_0.5_seed3_p8_optpath_randdim'\n",
    "# target_char = 'heatmap_10_5_0.5_seed3_p16_optpath_randdim'\n",
    "# target_char = 'heatmap_10_5_0.5_seed3_p12_optpath_randdim'\n",
    "# target_char = 'heatmap_10_5_0.5_seed3_p8_optpath_randdim'\n",
    "# target_char = 'heatmap_10_5_0.5_seed3_p4_optpath_randdim'\n",
    "# target_char = 'heatmap_10_5_0.5_seed3_p2_optpath_randdim'\n",
    "# target_char = 'heatmap_10_5_0.5_seed3_p1_optpath_randdim'\n",
    "target_char = ['heatmap_10_5_0.5_seed3_p8_optpath', '100']\n",
    "files = get_files_with_char(folder_path,target_char)\n",
    "files"
   ]
  },
  {
   "cell_type": "code",
   "execution_count": null,
   "id": "7be13af2-8e4d-4ced-83a4-34bb3133e854",
   "metadata": {
    "jupyter": {
     "outputs_hidden": true
    },
    "tags": []
   },
   "outputs": [],
   "source": [
    "for file in files:\n",
    "    result =  np.load(folder_path + '/' + file)\n",
    "    if len(result) == 3:\n",
    "        dims = re.search(r'dim(\\d+)', file).group(1)\n",
    "        if len(result) == 2:\n",
    "            grid_result, fidelity_hm = result \n",
    "        else:\n",
    "            grid_result, fidelity_hm, ar_hm = result \n",
    "            ar_hm = ar_hm.real\n",
    "        grid_result = grid_result.real\n",
    "        fidelity_hm = fidelity_hm.real\n",
    "\n",
    "        min_gamma = 0\n",
    "        max_gamma = 1\n",
    "        min_beta = -1\n",
    "        max_beta = 1\n",
    "        \n",
    "        fig, (ax1, ax2) = plt.subplots(1, 2, figsize = (16,6))\n",
    "        # plt.imshow(grid_result[:n_beta,:n_gamma], origin='lower', extent=[min_gamma, max_gamma, min_beta, max_beta], aspect=(min_gamma - max_gamma)/(min_beta-max_beta))\n",
    "        # plt.imshow(grid_result, origin='lower', extent=[min_gamma, max_gamma, min_beta, max_beta], aspect = 1)\n",
    "        im1=ax1.imshow(ar_hm, origin='lower', extent=[min_gamma, max_gamma, min_beta, max_beta], aspect = (max_gamma-min_gamma)/(max_beta-min_beta))\n",
    "        print(f'ini {ar_hm[50,0]}, best {np.max(ar_hm)}')\n",
    "        fig.colorbar(im1,ax=ax1,shrink=1)\n",
    "        ax1.set_xlabel(f\"Random {dims}\")  \n",
    "        ax1.set_ylabel(f\"Orth\") \n",
    "        ax1.axhline(y=0, color=\"red\", linestyle='--')\n",
    "        # ax1.scatter(0, 0, marker='v', color=\"red\")\n",
    "        ax1.set_title(f'AR')\n",
    "        ##########\n",
    "        ax2.plot(ar_hm[50,:])\n",
    "        ax2.set_xlabel(f\"Random {dims}\")  \n",
    "        ax2.set_ylabel(f\"AR\") \n",
    "        \n",
    "        plt.show()"
   ]
  },
  {
   "cell_type": "markdown",
   "id": "06add634-ef1a-4799-8965-cd2a1bf85523",
   "metadata": {
    "tags": []
   },
   "source": [
    "# 1d optpath only"
   ]
  },
  {
   "cell_type": "code",
   "execution_count": null,
   "id": "09fb0fa6-76e0-4d05-8d77-43bc1fb88ea4",
   "metadata": {},
   "outputs": [],
   "source": [
    "def get_files_with_char(folder_path, target_char):\n",
    "    all_files = os.listdir(folder_path)\n",
    "    if type(target_char) is list:\n",
    "        match_files = [file for file in all_files if target_char[0] in file and target_char[1] in file]\n",
    "    else:\n",
    "        match_files = [file for file in all_files if target_char in file]\n",
    "    return match_files"
   ]
  },
  {
   "cell_type": "code",
   "execution_count": null,
   "id": "52332b84-1a25-49aa-aaed-d5189efb984e",
   "metadata": {},
   "outputs": [],
   "source": [
    "folder_path = '/opt/omniai/work/instance1/jupyter/omniq/frugal/argonne/data/random_higherp'\n",
    "target_char = ['optpath_14', 'seed3']\n",
    "files = get_files_with_char(folder_path,target_char)\n",
    "files"
   ]
  },
  {
   "cell_type": "code",
   "execution_count": null,
   "id": "134b5bf0-f091-4991-90d7-e119e18ae308",
   "metadata": {},
   "outputs": [],
   "source": [
    "fig = plt.figure()\n",
    "for file in files:\n",
    "    result =  np.load(folder_path + '/' + file)\n",
    "    if len(result) == 3:\n",
    "        seed = re.search(r'seed(\\d+)', file).group(1)\n",
    "        p = re.search(r'p(\\d+)', file).group(1)\n",
    "        if len(result) == 2:\n",
    "            grid_result, fidelity_hm = result \n",
    "        else:\n",
    "            grid_result, fidelity_hm, ar_hm = result \n",
    "            ar_hm = ar_hm.real\n",
    "\n",
    "        plt.plot(ar_hm,label=f'seed{seed}, p{p}')\n",
    "        plt.axvline(x=25, linestyle = '--')\n",
    "        plt.axvline(x=125, linestyle = '--')\n",
    "        plt.xlabel(f\"t\")  \n",
    "        plt.title(f'AR')\n",
    "        ##########\n",
    "plt.legend(loc='best')\n",
    "plt.show()"
   ]
  },
  {
   "cell_type": "markdown",
   "id": "6cb297b0-e7a6-4b06-b31d-c227322b9590",
   "metadata": {},
   "source": [
    "# optpath with STD"
   ]
  },
  {
   "cell_type": "code",
   "execution_count": null,
   "id": "efa3f230-fe9b-41b9-a380-025823388d98",
   "metadata": {},
   "outputs": [],
   "source": [
    "def get_files_with_char(folder_path, target_char):\n",
    "    all_files = os.listdir(folder_path)\n",
    "    if type(target_char) is list:\n",
    "        match_files = [file for file in all_files if target_char[0] in file and target_char[1] in file]\n",
    "    else:\n",
    "        match_files = [file for file in all_files if target_char in file]\n",
    "    return match_files"
   ]
  },
  {
   "cell_type": "code",
   "execution_count": null,
   "id": "2a8dc80e-1b04-4528-b3de-ec5b6c342009",
   "metadata": {},
   "outputs": [],
   "source": [
    "folder_path = '/opt/omniai/work/instance1/jupyter/omniq/frugal/argonne/data/random_higherp'\n",
    "target_char = ['heatmap_10_5_0.5_seed1_p14_optpath', '150']\n",
    "# target_char = ['heatmap_10_5_0.5_seed1_p8_optpath', '150']\n",
    "files = get_files_with_char(folder_path,target_char)\n",
    "files"
   ]
  },
  {
   "cell_type": "code",
   "execution_count": null,
   "id": "a4ccfe91-3355-40a9-bd8e-fbe1cb054e9f",
   "metadata": {
    "tags": []
   },
   "outputs": [],
   "source": [
    "for file in files:\n",
    "    result =  np.load(folder_path + '/' + file)\n",
    "    nshot = 100\n",
    "    if len(result) == 5:\n",
    "        dims = re.search(r'dim(\\d+)', file).group(1)\n",
    "        energy_hm, fidelity_hm, ar_hm, energy_hm_std, ar_hm_std = result \n",
    "        ar_hm = ar_hm.real\n",
    "        energy_hm = energy_hm.real\n",
    "        fidelity_hm = fidelity_hm.real\n",
    "        energy_hm_std = energy_hm_std.real\n",
    "        ar_hm_std = np.abs(ar_hm_std.real)\n",
    "        energy_hm_std, ar_hm_std = energy_hm_std/np.sqrt(nshot), ar_hm_std/np.sqrt(nshot)\n",
    "        \n",
    "        min_gamma = -0.25\n",
    "        max_gamma = 1.25\n",
    "        min_beta = -1\n",
    "        max_beta = 1\n",
    "        ########################################\n",
    "        fig, (ax1, ax2) = plt.subplots(1, 2, figsize = (16,6))\n",
    "        # im1=ax1.imshow(energy_hm, origin='lower', extent=[min_gamma, max_gamma, min_beta, max_beta], aspect=(min_gamma - max_gamma)/(min_beta-max_beta))\n",
    "        im1=ax1.imshow(ar_hm, origin='lower', extent=[min_gamma, max_gamma, min_beta, max_beta], aspect = (max_gamma-min_gamma)/(max_beta-min_beta))\n",
    "        # print(f'ini {ar_hm[50,0]}, best {np.max(ar_hm)}')\n",
    "        fig.colorbar(im1,ax=ax1,shrink=1)\n",
    "        ax1.set_xlabel(f\"Random {dims}\")  \n",
    "        ax1.set_ylabel(f\"Orth\") \n",
    "        ax1.axhline(y=0, color=\"red\", linestyle='--')\n",
    "        ax1.axvline(x=0, linestyle = '--')\n",
    "        ax1.axvline(x=1, linestyle = '--')\n",
    "        # ax1.scatter(0, 0, marker='v', color=\"red\")\n",
    "        ax1.set_title(f'AR')\n",
    "        \n",
    "        ####################\n",
    "        # ax2.errorbar([i for i in range(150)],ar_hm[50,:],yerr=ar_hm_std[50,:])\n",
    "        # ax2.set_xlabel(f\"Random {dims}\")  \n",
    "        # ax2.set_ylabel(f\"AR\") \n",
    "        # ax2.axvline(x=25, linestyle = '--')\n",
    "        # ax2.axvline(x=125, linestyle = '--')\n",
    "        \n",
    "        # im2=ax2.imshow(energy_hm_std, origin='lower', extent=[min_gamma, max_gamma, min_beta, max_beta], aspect = (max_gamma-min_gamma)/(max_beta-min_beta))\n",
    "        im2=ax2.imshow(ar_hm_std, origin='lower', extent=[min_gamma, max_gamma, min_beta, max_beta], aspect = (max_gamma-min_gamma)/(max_beta-min_beta))\n",
    "        # print(f'ini {energy_hm_std[50,0]}, best {np.max(energy_hm_std)}')\n",
    "        fig.colorbar(im2,ax=ax2,shrink=1)\n",
    "        ax2.set_xlabel(f\"Random {dims}\")  \n",
    "        ax2.set_ylabel(f\"Orth\") \n",
    "        ax2.axhline(y=0, color=\"red\", linestyle='--')\n",
    "        ax2.axvline(x=0, linestyle = '--')\n",
    "        ax2.axvline(x=1, linestyle = '--')\n",
    "        # ax2.scatter(0, 0, marker='v', color=\"red\")\n",
    "        ax2.set_title(f'AR')\n",
    "        \n",
    "        ########################################\n",
    "        plt.show()\n",
    "        fig = plt.figure()\n",
    "        opt_t = [i for i in range(150)]\n",
    "        for t in [50]: #np.arange(40,60):\n",
    "            plt.errorbar(opt_t,ar_hm[t,:],yerr=ar_hm_std[t,:],label=f'y={t}')\n",
    "            plt.xlabel(f\"Random {dims}\")  \n",
    "            plt.ylabel(f\"AR\") \n",
    "            plt.axvline(x=25, linestyle = '--')\n",
    "            plt.axvline(x=125, linestyle = '--')\n",
    "        plt.legend()\n",
    "        plt.show()"
   ]
  },
  {
   "cell_type": "code",
   "execution_count": null,
   "id": "a9f18e87-ef79-4534-af36-3af99f6d9126",
   "metadata": {},
   "outputs": [],
   "source": []
  },
  {
   "cell_type": "code",
   "execution_count": null,
   "id": "0b9e88f0-6c28-4a65-ac2f-a30afc430018",
   "metadata": {},
   "outputs": [],
   "source": []
  }
 ],
 "metadata": {
  "kernelspec": {
   "display_name": "alignment",
   "language": "python",
   "name": "alignment"
  },
  "language_info": {
   "codemirror_mode": {
    "name": "ipython",
    "version": 3
   },
   "file_extension": ".py",
   "mimetype": "text/x-python",
   "name": "python",
   "nbconvert_exporter": "python",
   "pygments_lexer": "ipython3",
   "version": "3.8.11"
  }
 },
 "nbformat": 4,
 "nbformat_minor": 5
}
