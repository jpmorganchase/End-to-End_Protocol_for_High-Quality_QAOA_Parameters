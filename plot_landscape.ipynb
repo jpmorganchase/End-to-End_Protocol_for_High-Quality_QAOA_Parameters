{
 "cells": [
  {
   "cell_type": "code",
   "execution_count": null,
   "metadata": {},
   "outputs": [],
   "source": [
    "from math import pi\n",
    "from itertools import product\n",
    "\n",
    "import numpy as np\n",
    "from oscar import plot_2d_landscape\n",
    "\n",
    "problem = \"po\"\n",
    "p = 1\n",
    "qubit_pool = [10]\n",
    "seed_pool = range(1)\n",
    "# resolutions = [128, 32]\n",
    "# bounds = [(-2.2, -0.6), (0.9, 1.3)]\n",
    "# bounds = [(-4, 0), (0, 1)]\n",
    "resolutions = [64, 64]\n",
    "bounds = [(-pi, pi), (-pi, pi)]\n",
    "\n",
    "for i, (n, seed) in enumerate(product(qubit_pool, seed_pool)):\n",
    "    filename = f\"data/{problem}/landscapes/{p=}/{n=}/{problem}-{p=}-{n=}-{seed=}-{bounds}-{resolutions}.pckl\"\n",
    "    landscape = np.load(filename,allow_pickle=True)\n",
    "    plot_2d_landscape(landscape)\n",
    "    print(landscape.optimal_params())\n"
   ]
  },
  {
   "cell_type": "code",
   "execution_count": null,
   "metadata": {},
   "outputs": [],
   "source": [
    "from math import pi\n",
    "from itertools import product\n",
    "\n",
    "import numpy as np\n",
    "from oscar import plot_2d_landscape\n",
    "\n",
    "problem = \"maxcut\"\n",
    "p = 1\n",
    "qubit_pool = [10]\n",
    "seed_pool = range(1)\n",
    "# resolutions = [128, 32]\n",
    "# bounds = [(-2.2, -0.6), (0.9, 1.3)]\n",
    "# bounds = [(-4, 0), (0, 1)]\n",
    "resolutions = [64, 64]\n",
    "bounds = [(-pi, pi), (-pi, pi)]\n",
    "\n",
    "for i, (n, seed) in enumerate(product(qubit_pool, seed_pool)):\n",
    "    filename = f\"data/{problem}/landscapes/{p=}/{n=}/{problem}-{p=}-{n=}-{seed=}-{bounds}-{resolutions}.pckl\"\n",
    "    landscape = np.load(filename,allow_pickle=True)\n",
    "    plot_2d_landscape(landscape)\n",
    "    print(landscape.optimal_params())\n"
   ]
  }
 ],
 "metadata": {
  "kernelspec": {
   "display_name": "Python 3.9.4 64-bit ('py39')",
   "metadata": {
    "interpreter": {
     "hash": "fef8a80ccc97f941224394b7562f91d4f38ebd41afd16ade70c95013a6b3df14"
    }
   },
   "name": "python3"
  },
  "language_info": {
   "codemirror_mode": {
    "name": "ipython",
    "version": 3
   },
   "file_extension": ".py",
   "mimetype": "text/x-python",
   "name": "python",
   "nbconvert_exporter": "python",
   "pygments_lexer": "ipython3",
   "version": "3.9.4-final"
  }
 },
 "nbformat": 4,
 "nbformat_minor": 2
}
