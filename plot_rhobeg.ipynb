{
 "cells": [
  {
   "cell_type": "code",
   "execution_count": null,
   "metadata": {},
   "outputs": [],
   "source": [
    "import matplotlib.pyplot as plt\n",
    "import pickle\n",
    "import numpy as np\n",
    "\n",
    "method = \"LN_COBYLA (NLopt)\"\n",
    "problem = \"maxcut\"\n",
    "depth_pool = [5]\n",
    "qubit_pool = list(range(10, 21, 2))\n",
    "n = 10\n",
    "seed_pool = list(range(100))\n",
    "\n",
    "for p in depth_pool:\n",
    "    # for i, n in enumerate(qubit_pool):\n",
    "    data = pickle.load(\n",
    "        open(\n",
    "            f\"data/{problem}/configs/rhobeg/{method}-p{p}-q{n}-s{seed_pool[0]}-{seed_pool[-1]}.pckl\",\n",
    "            \"rb\",\n",
    "        ),\n",
    "    )\n",
    "    config = data[\"config\"]\n",
    "    result = data[\"result\"]\n",
    "    maxfev_pool = config[\"maxeval\"]\n",
    "    rhobeg_pool = config[\"initial_step\"]\n",
    "    result = result.reshape(-1, len(seed_pool), len(maxfev_pool), len(rhobeg_pool))\n",
    "    # result = result.reshape(len(qubit_pool), len(seed_pool), *result.shape[1:])\n",
    "    initial_ar = data[\"initial_ar\"]\n",
    "    print(config)\n",
    "\n",
    "    plt.figure(figsize=(12, 4))\n",
    "    bar_width = 0.4\n",
    "    colors = [\"tab:blue\", \"tab:orange\", \"pink\", \"lightblue\", \"lightgreen\", \"violet\"]\n",
    "    for i, (maxfev, c) in enumerate(zip(maxfev_pool, colors)):\n",
    "        ys = np.array(rhobeg_pool)[np.argmax(result[:,:,i], axis=2)]\n",
    "        print(np.median(ys[0]), np.mean(ys[0]))\n",
    "        plt.violinplot(\n",
    "            ys.T,\n",
    "            # sym=\"+\",\n",
    "            positions=np.array(qubit_pool)+bar_width*i,\n",
    "            widths=bar_width,\n",
    "            # showmeans=True,\n",
    "            showmedians=True,\n",
    "            # boxprops=dict(facecolor=c, alpha=0.75),\n",
    "            # flierprops=dict(color=c, markeredgecolor=c, markerfacecolor=c),\n",
    "            # medianprops=dict(color=\"yellow\"),\n",
    "            # patch_artist=True,\n",
    "        )\n",
    "        plt.plot([], c=c, label=f\"{maxfev=}\")\n",
    "    plt.xticks(np.array(qubit_pool) + bar_width * (len(maxfev_pool)-1) / 2, labels=qubit_pool)\n",
    "    plt.ylabel(\"rhobeg\")\n",
    "    plt.title(f\"{p=}\")\n",
    "    plt.legend()\n",
    "\n",
    "    plt.figure()\n",
    "    for i, (maxfev, c) in enumerate(zip(maxfev_pool, colors)):\n",
    "        ys = result[0,:,i].reshape(-1, len(rhobeg_pool))\n",
    "        plt.errorbar(rhobeg_pool, np.mean(ys, axis=0), yerr=np.std(ys, axis=0), c=c, label=f\"{maxfev=}\")\n",
    "    # plt.ylim((0.9, 1))\n",
    "    plt.ylabel(\"AR\")\n",
    "    plt.xlabel(\"rhobeg\")\n",
    "    plt.legend()\n"
   ]
  }
 ],
 "metadata": {
  "kernelspec": {
   "display_name": "Python 3.9.4 64-bit ('py39': venv)",
   "metadata": {
    "interpreter": {
     "hash": "9008988cd3443ccbbdd2b45f49641923a716c7d9db9983d797e46106d480cbf0"
    }
   },
   "name": "python3"
  },
  "language_info": {
   "codemirror_mode": {
    "name": "ipython",
    "version": 3
   },
   "file_extension": ".py",
   "mimetype": "text/x-python",
   "name": "python",
   "nbconvert_exporter": "python",
   "pygments_lexer": "ipython3",
   "version": "3.9.4-final"
  }
 },
 "nbformat": 4,
 "nbformat_minor": 2
}
