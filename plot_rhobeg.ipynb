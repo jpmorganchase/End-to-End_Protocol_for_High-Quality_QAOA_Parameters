{
 "cells": [
  {
   "cell_type": "code",
   "execution_count": null,
   "metadata": {},
   "outputs": [],
   "source": [
    "import matplotlib.pyplot as plt\n",
    "import pickle\n",
    "import numpy as np\n",
    "\n",
    "method = \"LN_COBYLA (NLopt)\"\n",
    "problem = \"maxcut\"\n",
    "depth_pool = [1, 4]\n",
    "qubit_pool = list(range(10, 15, 2))\n",
    "n = 10\n",
    "seed_pool = list(range(100))\n",
    "\n",
    "for p in depth_pool:\n",
    "    result, initial_ar, max_ar = [], [], []\n",
    "    for i, n in enumerate(qubit_pool):\n",
    "        # data = pickle.load(\n",
    "        #     open(\n",
    "        #         f\"data/{problem}/configs/max_ar/{method}-p{p}-q{n}-s0-999.pckl\",\n",
    "        #         \"rb\",\n",
    "        #     ),\n",
    "        # )\n",
    "        # max_ar.append(data[\"result\"][:len(seed_pool)])\n",
    "\n",
    "        data = pickle.load(\n",
    "            open(\n",
    "                f\"data/{problem}/configs/rhobeg/{method}-p{p}-q{n}-s{seed_pool[0]}-{seed_pool[-1]}.pckl\",\n",
    "                \"rb\",\n",
    "            ),\n",
    "        )\n",
    "        config = data[\"config\"]\n",
    "        maxfev_pool = config[\"maxeval\"]\n",
    "        rhobeg_pool = config[\"initial_step\"]\n",
    "        print(p, n)\n",
    "        result.append(data[\"result\"])\n",
    "        initial_ar.append(data[\"initial_ar\"])\n",
    "    result = np.array(result)\n",
    "    initial_ar = np.array(initial_ar)[:,:,np.newaxis,np.newaxis]\n",
    "    # max_ar = np.array(max_ar)[:,:,np.newaxis,np.newaxis]\n",
    "    max_ar = result[:,:,-1,0][:,:,np.newaxis,np.newaxis]\n",
    "    result = (result - initial_ar) / (max_ar - initial_ar)\n",
    "    print(config)\n",
    "\n",
    "    plt.figure(figsize=(12, 4))\n",
    "    bar_width = 0.3\n",
    "    colors = [\"tab:blue\", \"tab:orange\", \"pink\", \"lightblue\", \"lightgreen\", \"violet\"]\n",
    "    for j, (maxfev, c) in enumerate(zip(maxfev_pool, colors)):\n",
    "        ys = np.array(rhobeg_pool)[np.argmax(result[:,:,j], axis=2)]\n",
    "        print(np.median(ys[0]), np.mean(ys[0]))\n",
    "        plt.violinplot(\n",
    "            ys.T,\n",
    "            # sym=\"+\",\n",
    "            positions=np.array(qubit_pool)+bar_width*j,\n",
    "            widths=bar_width,\n",
    "            showmeans=True,\n",
    "            # showmedians=True,\n",
    "        )\n",
    "        plt.plot([], c=c, label=f\"{maxfev=}\")\n",
    "    plt.xticks(np.array(qubit_pool) + bar_width * (len(maxfev_pool)-1) / 2, labels=qubit_pool)\n",
    "    plt.ylabel(\"rhobeg\")\n",
    "    plt.title(f\"{p=}\")\n",
    "    plt.legend()\n",
    "\n",
    "    plt.figure(figsize=(12, 10))\n",
    "    for j, maxfev in enumerate(maxfev_pool[:-1]):\n",
    "        ys = result[:,:,j]\n",
    "        plt.errorbar(rhobeg_pool, np.mean(ys, axis=(0,1)), yerr=np.std(ys, axis=(0,1))/np.sqrt(len(seed_pool)), label=f\"{maxfev=}\")\n",
    "\n",
    "    # plt.ylim((0.9, 1))\n",
    "    plt.ylabel(\"AR\")\n",
    "    plt.xlabel(\"rhobeg\")\n",
    "    plt.title(f\"{p=}\")\n",
    "    plt.legend()\n"
   ]
  }
 ],
 "metadata": {
  "kernelspec": {
   "display_name": "Python 3.9.4 64-bit ('py39')",
   "metadata": {
    "interpreter": {
     "hash": "fef8a80ccc97f941224394b7562f91d4f38ebd41afd16ade70c95013a6b3df14"
    }
   },
   "name": "python3"
  },
  "language_info": {
   "codemirror_mode": {
    "name": "ipython",
    "version": 3
   },
   "file_extension": ".py",
   "mimetype": "text/x-python",
   "name": "python",
   "nbconvert_exporter": "python",
   "pygments_lexer": "ipython3",
   "version": "3.9.4-final"
  }
 },
 "nbformat": 4,
 "nbformat_minor": 2
}
