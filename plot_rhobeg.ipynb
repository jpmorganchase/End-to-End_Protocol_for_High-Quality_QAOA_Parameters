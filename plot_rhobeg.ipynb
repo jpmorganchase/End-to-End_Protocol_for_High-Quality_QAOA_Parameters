{
 "cells": [
  {
   "cell_type": "code",
   "execution_count": null,
   "metadata": {},
   "outputs": [],
   "source": [
    "import matplotlib.pyplot as plt\n",
    "import pickle\n",
    "import numpy as np\n",
    "\n",
    "method = \"LN_COBYLA (NLopt)\"\n",
    "problem = \"maxcut\"\n",
    "depth_pool = [5]\n",
    "qubit_pool = list(range(10, 19, 2))\n",
    "seed_pool = list(range(100))\n",
    "\n",
    "for p in depth_pool:\n",
    "    data = pickle.load(\n",
    "        open(\n",
    "            f\"data/{problem}/configs/{method}-p{p}-q{qubit_pool}-s{seed_pool[0]}-{seed_pool[-1]}-rhobeg.pckl\",\n",
    "            \"rb\",\n",
    "        ),\n",
    "    )\n",
    "    config = data[\"config\"]\n",
    "    result = data[\"result\"]\n",
    "    result = result.reshape(len(qubit_pool), len(seed_pool), *result.shape[1:])\n",
    "    initial_ar = data[\"initial_ar\"]\n",
    "\n",
    "    print(config)\n",
    "    maxfev_pool = config[\"maxeval\"]\n",
    "    rhobeg_pool = config[\"initial_step\"]\n",
    "    plt.figure()\n",
    "    bar_width = 0.2\n",
    "    colors = [\"tab:blue\", \"tab:orange\", \"pink\", \"lightblue\", \"lightgreen\", \"violet\"]\n",
    "    for i, (maxfev, c) in enumerate(zip(maxfev_pool, colors)):\n",
    "        ys = np.array(rhobeg_pool)[np.argmax(result[:,:,i], axis=2)]\n",
    "        plt.boxplot(\n",
    "            ys,\n",
    "            sym=\"+\",\n",
    "            positions=np.array(qubit_pool)+width*i,\n",
    "            widths=width,\n",
    "            boxprops=dict(facecolor=c, alpha=0.75),\n",
    "            flierprops=dict(color=c, markeredgecolor=c, markerfacecolor=c),\n",
    "            medianprops=dict(color=\"yellow\"),\n",
    "            patch_artist=True,\n",
    "        )\n",
    "        plt.plot([], c=c, label=str(maxfev))\n",
    "    plt.xticks(np.array(qubit_pool) + wdith * len(maxfev_pool) / 2, labels=qubit_pool)\n",
    "    plt.ylabel(\"Rhobeg\")\n",
    "    plt.title(f\"{p=}\")\n",
    "    plt.legend()\n"
   ]
  }
 ],
 "metadata": {
  "language_info": {
   "codemirror_mode": {
    "name": "ipython",
    "version": 3
   },
   "file_extension": ".py",
   "mimetype": "text/x-python",
   "name": "python",
   "nbconvert_exporter": "python",
   "pygments_lexer": "ipython3",
   "version": 3
  }
 },
 "nbformat": 4,
 "nbformat_minor": 2
}
