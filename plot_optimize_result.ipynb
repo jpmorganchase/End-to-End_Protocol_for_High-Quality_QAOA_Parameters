{
 "cells": [
  {
   "cell_type": "code",
   "execution_count": null,
   "metadata": {},
   "outputs": [],
   "source": [
    "# %matplotlib widget\n",
    "import pickle\n",
    "import numpy as np\n",
    "\n",
    "method = \"LN_COBYLA (NLopt)\"\n",
    "problem = \"maxcut\"\n",
    "p = 5\n",
    "n = 12\n",
    "seed_pool = list(range(1000))\n",
    "\n",
    "data = pickle.load(\n",
    "    open(\n",
    "        f\"data/{problem}/configs/max_ar/{method}-p{p}-q{n}-s0-999.pckl\",\n",
    "        \"rb\",\n",
    "    ),\n",
    ")\n",
    "max_ar = data[\"result\"][:len(seed_pool),np.newaxis,np.newaxis]\n",
    "\n",
    "data = pickle.load(\n",
    "    open(\n",
    "        f\"data/{problem}/configs/budget/{method}-p{p}-q{n}-s{seed_pool[0]}-{seed_pool[-1]}.pckl\",\n",
    "        \"rb\",\n",
    "    ),\n",
    ")\n",
    "config = data[\"config\"]\n",
    "result = data[\"result\"][:,:10,:10]\n",
    "initial_ar = np.array(data[\"initial_ar\"])[:,np.newaxis,np.newaxis]\n",
    "\n",
    "print(config, result.shape)\n",
    "shots_pool = [d[\"shots\"] for d in config[\"executor_kwargs\"]][:10]\n",
    "maxfev_pool = config[\"maxeval\"][:10]\n",
    "\n",
    "result = (result - initial_ar) / (max_ar - initial_ar)"
   ]
  },
  {
   "cell_type": "code",
   "execution_count": null,
   "metadata": {},
   "outputs": [],
   "source": [
    "# print(\"Initial AR:\", np.mean(initial_ar))\n",
    "mean_ar = np.mean(result, axis=0)\n",
    "indices = np.argsort(mean_ar.flat)[-1:-100:-1]\n",
    "for r, c in zip(mean_ar.flatten()[indices], config.interpret(indices)):\n",
    "    print(r, c)\n"
   ]
  },
  {
   "cell_type": "code",
   "execution_count": null,
   "metadata": {},
   "outputs": [],
   "source": [
    "import matplotlib.pyplot as plt\n",
    "from matplotlib import cm\n",
    "\n",
    "fig, ax = plt.subplots(subplot_kw={\"projection\": \"3d\"})\n",
    "x, y = np.meshgrid(maxfev_pool, shots_pool, indexing='ij')\n",
    "z = np.mean(result, axis=0)\n",
    "surf = ax.plot_surface(x, y, z, cmap=cm.coolwarm, linewidth=0, antialiased=True)\n",
    "# ax.plot_surface(x, y, np.ones_like(z) * np.mean(initial_ar), cmap=cm.coolwarm, linewidth=0, antialiased=True, rstride=1, cstride=1, edgecolor='none')\n",
    "ax.set_title(method)\n",
    "fig.colorbar(surf, shrink=0.5, aspect=5)\n",
    "ax.set_ylabel('#shots/eval')\n",
    "ax.set_xlabel('max #eval')\n",
    "ax.set_zlabel('relative mean ar')"
   ]
  },
  {
   "cell_type": "code",
   "execution_count": null,
   "metadata": {},
   "outputs": [],
   "source": [
    "budget = 10000\n",
    "\n",
    "plt.figure()\n",
    "x, y = np.meshgrid(maxfev_pool, shots_pool, indexing='ij')\n",
    "z = np.mean(result, axis=0)\n",
    "fig = plt.tricontourf(x.flat, y.flat, z.flat, levels=50)\n",
    "plt.plot(maxfev_pool, budget / np.array(maxfev_pool), \"ko\", ms=1)\n",
    "plt.colorbar(fig)"
   ]
  },
  {
   "cell_type": "code",
   "execution_count": null,
   "metadata": {},
   "outputs": [],
   "source": [
    "xx = [11, 12, 14, 16, 20]\n",
    "yy = [900, 800, 700, 600, 500]\n",
    "zz = [z[0,7], z[2,6], z[4,5], z[8,4]]\n",
    "zz = [z[0,8], z[1,7], z[3,6], z[5,5], z[9,4]]\n",
    "print(zz)"
   ]
  },
  {
   "cell_type": "code",
   "execution_count": null,
   "metadata": {},
   "outputs": [],
   "source": []
  }
 ],
 "metadata": {
  "kernelspec": {
   "display_name": "Python 3.9.4 64-bit ('py39')",
   "metadata": {
    "interpreter": {
     "hash": "fef8a80ccc97f941224394b7562f91d4f38ebd41afd16ade70c95013a6b3df14"
    }
   },
   "name": "python3"
  },
  "language_info": {
   "codemirror_mode": {
    "name": "ipython",
    "version": 3
   },
   "file_extension": ".py",
   "mimetype": "text/x-python",
   "name": "python",
   "nbconvert_exporter": "python",
   "pygments_lexer": "ipython3",
   "version": "3.9.4-final"
  }
 },
 "nbformat": 4,
 "nbformat_minor": 2
}
