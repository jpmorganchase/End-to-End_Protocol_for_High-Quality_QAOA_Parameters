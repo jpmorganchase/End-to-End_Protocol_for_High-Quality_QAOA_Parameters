{
 "cells": [
  {
   "cell_type": "code",
   "execution_count": null,
   "metadata": {},
   "outputs": [],
   "source": [
    "# %matplotlib widget\n",
    "import pickle\n",
    "import numpy as np\n",
    "\n",
    "method = \"LN_COBYLA (NLopt)\"\n",
    "problem = \"maxcut\"\n",
    "p = 5\n",
    "qubit_pool = [12]\n",
    "seed_pool = list(range(1000))\n",
    "\n",
    "data = pickle.load(\n",
    "    open(\n",
    "        f\"data/{problem}/configs/{method}-p{p}-q{qubit_pool}-s{seed_pool[0]}-{seed_pool[-1]}.pckl\",\n",
    "        \"rb\",\n",
    "    ),\n",
    ")\n",
    "config = data[\"config\"]\n",
    "result = data[\"result\"]\n",
    "initial_ar = data[\"initial_ar\"]\n",
    "\n",
    "print(config)\n",
    "shots_pool = [d[\"shots\"] for d in config[\"executor_kwargs\"]]\n",
    "maxfev_pool = config[\"maxeval\"]"
   ]
  },
  {
   "cell_type": "code",
   "execution_count": null,
   "metadata": {},
   "outputs": [],
   "source": [
    "print(\"Initial AR:\", np.mean(initial_ar))\n",
    "mean_ar = np.mean(result, axis=0)\n",
    "indices = np.argsort(mean_ar.flat)[-1:-100:-1]\n",
    "for r, c in zip(mean_ar.flatten()[indices], config.interpret(indices)):\n",
    "    print(r, c)\n"
   ]
  },
  {
   "cell_type": "code",
   "execution_count": null,
   "metadata": {},
   "outputs": [],
   "source": [
    "import matplotlib.pyplot as plt\n",
    "from matplotlib import cm\n",
    "\n",
    "fig, ax = plt.subplots(subplot_kw={\"projection\": \"3d\"})\n",
    "x, y = np.meshgrid(shots_pool, maxfev_pool, indexing='ij')\n",
    "zs = np.max(mean_ar.reshape(len(shots_pool), -1, len(maxfev_pool)), axis=1)\n",
    "surf = ax.plot_surface(x, y, zs, cmap=cm.coolwarm, linewidth=0, antialiased=True)\n",
    "ax.plot_surface(x, y, np.ones_like(zs) * np.mean(initial_ar), cmap=cm.coolwarm, linewidth=0, antialiased=True, rstride=1, cstride=1, edgecolor='none')\n",
    "ax.set_title(method)\n",
    "fig.colorbar(surf, shrink=0.5, aspect=5)\n",
    "ax.set_xlabel('#shots/eval')\n",
    "ax.set_ylabel('max #eval')\n",
    "ax.set_zlabel('mean ar')\n",
    "\n",
    "xx = [900, 800, 700, 600, 500]\n",
    "yy = [11, 12, 14, 16, 20]\n",
    "zz = [zs[8,0], zs[7,1], zs[6,3], zs[5,5], zs[4,9]]\n",
    "ax.scatter(xx, yy, np.array(zz) + 0.002, 'ro', c=\"k\")"
   ]
  },
  {
   "cell_type": "code",
   "execution_count": null,
   "metadata": {},
   "outputs": [],
   "source": [
    "budget = 10000\n",
    "for shots in shots_pool:\n",
    "    maxfev = budget // shots\n",
    "    mean_ar[]"
   ]
  }
 ],
 "metadata": {
  "kernelspec": {
   "display_name": "Python 3.9.4 64-bit ('py39')",
   "metadata": {
    "interpreter": {
     "hash": "fef8a80ccc97f941224394b7562f91d4f38ebd41afd16ade70c95013a6b3df14"
    }
   },
   "name": "python3"
  },
  "language_info": {
   "codemirror_mode": {
    "name": "ipython",
    "version": 3
   },
   "file_extension": ".py",
   "mimetype": "text/x-python",
   "name": "python",
   "nbconvert_exporter": "python",
   "pygments_lexer": "ipython3",
   "version": "3.9.4-final"
  }
 },
 "nbformat": 4,
 "nbformat_minor": 2
}
