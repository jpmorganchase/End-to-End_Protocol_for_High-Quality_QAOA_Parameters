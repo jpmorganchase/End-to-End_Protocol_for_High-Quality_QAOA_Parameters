{
 "cells": [
  {
   "cell_type": "code",
   "execution_count": null,
   "id": "e82e23d9-ef62-4de2-bd22-86f74b8770f1",
   "metadata": {},
   "outputs": [],
   "source": [
    "from utils import *\n",
    "from circuit_utils import *\n",
    "from optimizer import *\n",
    "import pickle\n",
    "import matplotlib.pyplot as plt\n",
    "import re\n",
    "import os"
   ]
  },
  {
   "cell_type": "markdown",
   "id": "972d6dc0-3223-4472-b568-316ac53760c3",
   "metadata": {},
   "source": [
    "# Select scaling by rule"
   ]
  },
  {
   "cell_type": "markdown",
   "id": "70a392b8-f441-4041-a913-35ebf9ac53c1",
   "metadata": {},
   "source": [
    "## Rand instance"
   ]
  },
  {
   "cell_type": "code",
   "execution_count": null,
   "id": "3b704784-8c92-4a79-9d21-715634081379",
   "metadata": {},
   "outputs": [],
   "source": [
    "def get_files_with_char(folder_path, target_char):\n",
    "    all_files = os.listdir(folder_path)\n",
    "    match_files = [file for file in all_files if target_char in file]\n",
    "    return match_files\n",
    "folder_path = '/opt/omniai/work/instance1/jupyter/omniq/frugal/argonne/data/random'\n",
    "target_char = 'heatmap_10_5_0.5_p1_seed'\n",
    "## result = np.load(f'data/random/heatmap_10_5_0.5_seed0_12_rand_rule.npy')\n",
    "files = get_files_with_char(folder_path,target_char)\n",
    "files"
   ]
  },
  {
   "cell_type": "code",
   "execution_count": null,
   "id": "0d1a8866-5e93-4ca4-9137-bef4e271aefa",
   "metadata": {
    "tags": []
   },
   "outputs": [],
   "source": [
    "for file in files:\n",
    "    result =  np.load(folder_path + '/' + file)\n",
    "    seed_ind = re.search(r'seed(\\d+)', file).group(1)\n",
    "    grid_result, fidelity_hm = result \n",
    "    grid_result = grid_result.real\n",
    "    fidelity_hm = fidelity_hm.real\n",
    "\n",
    "    npoints = 100\n",
    "    min_gamma = -1 * np.pi\n",
    "    max_gamma = 1 * np.pi\n",
    "    min_beta = 0 #*np.pi\n",
    "    max_beta = 2 * np.pi\n",
    "\n",
    "    gammas = np.linspace(min_gamma, max_gamma, npoints)\n",
    "    betas = np.linspace(min_beta, max_beta, 25)\n",
    "    n_gamma = len(gammas)\n",
    "    n_beta = len(betas)\n",
    "\n",
    "    # print(\"=\" * 100)\n",
    "    # print(f\"Minimum cost solution: {best_cost0[t]:.6f}\")\n",
    "    # print(\"Beta: {:.2f}*pi\".format(best_beta[t] / np.pi))\n",
    "    # print(\"Gamma: {:.2f}*pi\".format(best_gamma[t] / np.pi))\n",
    "    # print(\"=\" * 100)\n",
    "    ##########################\n",
    "    plt.figure()\n",
    "    plt.imshow(grid_result[:n_beta,:n_gamma], origin='lower', extent=[min_gamma, max_gamma, min_beta, max_beta], aspect=(min_gamma - max_gamma)/(min_beta-max_beta))\n",
    "    plt.colorbar()\n",
    "    plt.xlabel(r\"$\\gamma$\")  \n",
    "    plt.ylabel(r\"$\\beta$\") \n",
    "    ######\n",
    "    best_cost = np.min(grid_result[:n_beta,:n_gamma])\n",
    "    ind = list(np.where(grid_result[:n_beta,:n_gamma] == best_cost))\n",
    "    if len(ind[0]) > 1:\n",
    "        ind[0] = ind[0][0]\n",
    "        ind[1] = ind[1][0]\n",
    "    ind = tuple([x.item() for x in ind])\n",
    "    best_beta = betas[ind[0]]\n",
    "    best_gamma = gammas[ind[1]]\n",
    "    plt.scatter(best_gamma, best_beta, marker='v', color=\"red\")\n",
    "    plt.title(f'Seed{seed_ind} Energy') \n",
    "    plt.show()\n",
    "    print(f'best gamma = {best_gamma:.4f}, best beta = {best_beta:.4f}, best energy = {best_cost:.4f}')\n",
    "\n",
    "    ##########################\n",
    "    # plt.figure()\n",
    "    # plt.imshow(fidelity_hm[:n_beta,:n_gamma], origin='lower', extent=[min_gamma, max_gamma, min_beta, max_beta], aspect=(min_gamma - max_gamma)/(min_beta-max_beta))\n",
    "    # plt.colorbar()\n",
    "    # plt.xlabel(r\"$\\gamma$\")  \n",
    "    # plt.ylabel(r\"$\\beta$\") \n",
    "    # ######\n",
    "    # best_overlap = np.max(fidelity_hm[:n_beta,:n_gamma])\n",
    "    # ind = list(np.where(fidelity_hm[:n_beta,:n_gamma] == best_overlap))\n",
    "    # if len(ind[0]) > 1:\n",
    "    #     ind[0] = ind[0][0]\n",
    "    #     ind[1] = ind[1][0]\n",
    "    # ind = tuple([x.item() for x in ind])\n",
    "    # best_beta = betas[ind[0]]\n",
    "    # best_gamma = gammas[ind[1]]\n",
    "    # plt.scatter(best_gamma, best_beta, marker='v', color=\"red\")\n",
    "    # plt.title(f'Overlap')\n",
    "    # plt.show()"
   ]
  }
 ],
 "metadata": {
  "kernelspec": {
   "display_name": "alignment",
   "language": "python",
   "name": "alignment"
  },
  "language_info": {
   "codemirror_mode": {
    "name": "ipython",
    "version": 3
   },
   "file_extension": ".py",
   "mimetype": "text/x-python",
   "name": "python",
   "nbconvert_exporter": "python",
   "pygments_lexer": "ipython3",
   "version": "3.8.11"
  }
 },
 "nbformat": 4,
 "nbformat_minor": 5
}
