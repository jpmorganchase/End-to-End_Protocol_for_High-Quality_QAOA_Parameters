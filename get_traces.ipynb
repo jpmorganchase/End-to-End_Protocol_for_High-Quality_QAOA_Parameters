{
 "cells": [
  {
   "cell_type": "code",
   "execution_count": null,
   "id": "e0f73807-d3dd-4300-ada9-dd71dcd2fc14",
   "metadata": {},
   "outputs": [],
   "source": [
    "import os\n",
    "\n",
    "os.environ[\"OMP_NUM_THREADS\"] = \"5\"\n",
    "os.environ[\"NUMBA_NUM_THREADS\"] = \"5\"\n",
    "\n",
    "import numpy as np\n",
    "from functools import partial\n",
    "from itertools import starmap, product\n",
    "import pickle\n",
    "\n",
    "from utils import (\n",
    "    get_problem,\n",
    "    precompute_energies_parallel,\n",
    "    get_adjusted_state,\n",
    "    get_problem_H,\n",
    "    scale_map,\n",
    "    generate_dicke_state_fast,\n",
    ")\n",
    "from circuit_utils import (\n",
    "    get_configuration_cost_slow,\n",
    "    get_configuration_cost,\n",
    "    get_configuration_cost_kw,\n",
    "    apply_mixer_Txy,\n",
    "    apply_mixer_Txy_yue,\n",
    "    get_qaoa_circuit,\n",
    "    measure_circuit,\n",
    ")\n",
    "from optimizer import circuit_measurement_function\n",
    "from fur import QAOAFURXYRingSimulatorC"
   ]
  },
  {
   "cell_type": "code",
   "execution_count": null,
   "id": "d6758baf-a8f9-4fab-82fa-cd9bfca49adf",
   "metadata": {},
   "outputs": [],
   "source": [
    "from tqdm import tqdm\n",
    "import matplotlib.pyplot as plt\n",
    "import nlopt\n",
    "from pathlib import Path"
   ]
  },
  {
   "cell_type": "code",
   "execution_count": null,
   "id": "4cd43cca-e286-4986-b8e6-fa15bce196db",
   "metadata": {},
   "outputs": [],
   "source": [
    "def process_trace(trace, true_min, rtol=1e-5, atol=1e-5):\n",
    "    for idx, x in enumerate(trace):\n",
    "        if np.isclose(x, true_min, rtol=rtol, atol=atol):\n",
    "            return idx\n",
    "    return np.nan"
   ]
  },
  {
   "cell_type": "markdown",
   "id": "95bd032e-3b17-462e-aea8-011853aff359",
   "metadata": {},
   "source": [
    "# Random instance"
   ]
  },
  {
   "cell_type": "code",
   "execution_count": null,
   "id": "7f9fe5dc-47b5-42a1-b7aa-d31bd64d32a0",
   "metadata": {},
   "outputs": [],
   "source": [
    "all_orig = []\n",
    "all_rescaled = []\n",
    "all_result = []\n",
    "\n",
    "seed_lst = [i for i in range(10)]\n",
    "N_lst = [10]\n",
    "p_lst = [i for i in range(1,13)]\n",
    "n_seed, n_N, n_p = len(seed_lst), len(N_lst), len(p_lst)\n",
    "all_AR, all_ori_AR = np.zeros((n_seed,n_N,n_p)), np.zeros((n_seed,n_N,n_p))\n",
    "all_t, all_ori_t = np.zeros((n_seed,n_N,n_p)), np.zeros((n_seed,n_N,n_p))\n",
    "for i_s, seed in enumerate(seed_lst):\n",
    "    for i_n, N in enumerate(N_lst):\n",
    "        for i_p, p in enumerate(p_lst):\n",
    "            K = int(N/2)\n",
    "            q = 0.5\n",
    "            outpath = f'traces/{N}_{K}_{q}_{seed}_p{p+1}_SK_init.pickle'\n",
    "            if Path(outpath).exists():\n",
    "                res = pickle.load(open(outpath, 'rb'))\n",
    "                all_AR[i_s,i_n,i_p] = res['rescale_ar']\n",
    "                # print(res['res_rescaled'][0])\n",
    "                all_ori_AR[i_s,i_n,i_p] = res['orig_ar']\n",
    "                all_t[i_s,i_n,i_p] = len(res['trace_rescaled'])\n",
    "                all_ori_t[i_s,i_n,i_p] = len(res['trace_orig'])\n",
    "                # true_min = min(np.min(res['trace_orig']), np.min(res['trace_rescaled']))\n",
    "                # all_orig.append(process_trace(res['trace_orig'], true_min))\n",
    "                # all_rescaled.append(process_trace(res['trace_rescaled'], true_min))\n",
    "                # all_result.append(res['res_rescaled'])\n",
    "                                  \n",
    "                # if not np.isclose(np.min(res['trace_orig']), np.min(res['trace_rescaled']), rtol=1e-5, atol=1e-5):\n",
    "                #     print(N, seed, np.min(res['trace_orig']) - np.min(res['trace_rescaled']))\n",
    "                # this is same as above\n",
    "                # if not np.isclose(res['res_orig'][1], res['res_rescaled'][1], rtol=1e-5, atol=1e-5):\n",
    "                #     print(N, seed, res['res_orig'][1] - res['res_rescaled'][1])"
   ]
  },
  {
   "cell_type": "code",
   "execution_count": null,
   "id": "c54ec03e-befb-46ae-8fe1-84b133397f65",
   "metadata": {},
   "outputs": [],
   "source": [
    "np.mean(all_AR[:,:,:],axis=(0,1))"
   ]
  },
  {
   "cell_type": "code",
   "execution_count": null,
   "id": "75f347fd-936d-4ddb-820c-79b52f6dd61d",
   "metadata": {},
   "outputs": [],
   "source": [
    "np.mean(all_ori_AR[:,:,:],axis=(0,1))"
   ]
  },
  {
   "cell_type": "code",
   "execution_count": null,
   "id": "06c7ac84-98bf-47ab-b61a-7e166bc9e029",
   "metadata": {},
   "outputs": [],
   "source": [
    "np.mean(all_t[:,:,:],axis=(0,1))"
   ]
  },
  {
   "cell_type": "code",
   "execution_count": null,
   "id": "0fe237df-d98c-47d1-a654-0f46a59fa39a",
   "metadata": {},
   "outputs": [],
   "source": [
    "np.mean(all_ori_t[:,:,:],axis=(0,1))"
   ]
  },
  {
   "cell_type": "code",
   "execution_count": null,
   "id": "22c6232f-5105-42bc-9f53-daa9a8cf97c9",
   "metadata": {},
   "outputs": [],
   "source": [
    "plt.figure()\n",
    "plt.plot(np.mean(all_AR[:,:,:],axis=(0,1)),label='scaled')\n",
    "plt.plot(np.mean(all_ori_AR[:,:,:],axis=(0,1)),label='unscaled')\n",
    "plt.xlabel('depth')\n",
    "plt.ylabel('AR')\n",
    "plt.legend()\n",
    "plt.show()"
   ]
  },
  {
   "cell_type": "markdown",
   "id": "317c1d64-0d4a-4a4b-b4a2-9341392253a7",
   "metadata": {},
   "source": [
    "# different Shot "
   ]
  },
  {
   "cell_type": "code",
   "execution_count": null,
   "id": "f4c61aba-d3e6-4089-8df6-20b10d73c7cb",
   "metadata": {},
   "outputs": [],
   "source": [
    "all_orig = []\n",
    "all_rescaled = []\n",
    "all_result = []\n",
    "seed_lst = [i for i in range(10)]\n",
    "N_lst = [10]\n",
    "p_lst = [1] #[i for i in range(1,13)] #[1,6,10]#\n",
    "shot_list = ['sv', 1000, 100000, 10000000] #[1000]  \n",
    "n_seed, n_N, n_p, n_shot = len(seed_lst), len(N_lst), len(p_lst), len(shot_list)\n",
    "all_AR, all_ori_AR = np.zeros((n_seed,n_N,n_p,n_shot)), np.zeros((n_seed,n_N,n_p,n_shot))\n",
    "all_t, all_ori_t = np.zeros((n_seed,n_N,n_p,n_shot)), np.zeros((n_seed,n_N,n_p,n_shot))\n",
    "for i_s, seed in enumerate(seed_lst):\n",
    "    for i_n, N in enumerate(N_lst):\n",
    "        plt.figure()\n",
    "        for i_shot, shot in enumerate(shot_list):\n",
    "            for i_p, p in enumerate(p_lst):\n",
    "                K = int(N/2)\n",
    "                q = 0.5\n",
    "                if shot == 'sv':\n",
    "                    outpath = f'traces/{N}_{K}_{q}_{seed}_p{p+1}_SK_init.pickle'\n",
    "                else:\n",
    "                    outpath = f'traces_shot/{N}_{K}_{q}_{seed}_p{p+1}_shot{shot}_SK_init.pickle'\n",
    "                if Path(outpath).exists():\n",
    "                    res = pickle.load(open(outpath, 'rb'))\n",
    "                    all_AR[i_s,i_n,i_p,i_shot] = res['rescale_ar']\n",
    "                    all_ori_AR[i_s,i_n,i_p,i_shot] = res['orig_ar']\n",
    "                    all_t[i_s,i_n,i_p,i_shot] = len(res['trace_rescaled'])\n",
    "                    all_ori_t[i_s,i_n,i_p,i_shot] = len(res['trace_orig'])\n",
    "                ### plt.plot(res['res_rescaled'][2], label=f'p={p}')\n",
    "            plt.plot(res['trace_rescaled'], label=f'shot={shot}')\n",
    "            plt.title(f'seed-{seed}, p-{1}')\n",
    "            plt.legend()\n",
    "        plt.show()"
   ]
  },
  {
   "cell_type": "code",
   "execution_count": null,
   "id": "f805128a-24d7-479a-9423-5d4231f19058",
   "metadata": {},
   "outputs": [],
   "source": [
    "plt.figure()\n",
    "for i_shot in range(n_shot):\n",
    "    # plt.errorbar(p_lst,np.mean(all_AR[:,:,:,i_shot],axis=(0,1)),yerr=np.std(all_AR[:,:,:,i_shot],axis=(0,1)),label=f'scaled shot-{shot_list[i_shot]}')\n",
    "    plt.plot(p_lst,np.mean(all_AR[:,:,:,i_shot],axis=(0,1)),label=f'scaled shot-{shot_list[i_shot]}')\n",
    "    # plt.plot(np.mean(all_ori_AR[:,:,:,i_shot],axis=(0,1)),label=f'unscaled shot-{shot_list[i_shot]}')\n",
    "plt.xlabel('depth')\n",
    "plt.ylabel('AR')\n",
    "plt.legend()\n",
    "plt.show()"
   ]
  },
  {
   "cell_type": "code",
   "execution_count": null,
   "id": "441b60fd-5965-4843-8672-076fd5351e4c",
   "metadata": {},
   "outputs": [],
   "source": []
  }
 ],
 "metadata": {
  "kernelspec": {
   "display_name": "alignment",
   "language": "python",
   "name": "alignment"
  },
  "language_info": {
   "codemirror_mode": {
    "name": "ipython",
    "version": 3
   },
   "file_extension": ".py",
   "mimetype": "text/x-python",
   "name": "python",
   "nbconvert_exporter": "python",
   "pygments_lexer": "ipython3",
   "version": "3.8.11"
  }
 },
 "nbformat": 4,
 "nbformat_minor": 5
}
