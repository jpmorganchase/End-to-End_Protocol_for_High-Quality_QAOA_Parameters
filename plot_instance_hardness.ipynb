{
 "cells": [
  {
   "cell_type": "code",
   "execution_count": null,
   "metadata": {},
   "outputs": [],
   "source": [
    "# %matplotlib widget\n",
    "import pickle\n",
    "import numpy as np\n",
    "\n",
    "method = \"LN_COBYLA (NLopt)\"\n",
    "problem = \"maxcut\"\n",
    "p = 5\n",
    "n = 12\n",
    "seed_pool = list(range(1000))\n",
    "\n",
    "data = pickle.load(\n",
    "    open(\n",
    "        f\"data/{problem}/configs/max_ar/LN_COBYLA (NLopt)-p{p}-q{n}-s0-999.pckl\",\n",
    "        \"rb\",\n",
    "    ),\n",
    ")\n",
    "max_ar = data[\"result\"][:len(seed_pool)]\n",
    "\n",
    "data = pickle.load(\n",
    "    open(\n",
    "        f\"data/{problem}/configs/budget/{method}-p{p}-q{n}-s{seed_pool[0]}-{seed_pool[-1]}.pckl\",\n",
    "        \"rb\",\n",
    "    ),\n",
    ")\n",
    "config = data[\"config\"]\n",
    "result = data[\"result\"][:,:,:]\n",
    "initial_ar = np.array(data[\"initial_ar\"])\n",
    "\n",
    "print(config, result.shape)\n",
    "shots_pool = [d[\"shots\"] for d in config[\"executor_kwargs\"]][:]\n",
    "maxfev_pool = config[\"maxeval\"][:]\n"
   ]
  },
  {
   "cell_type": "code",
   "execution_count": null,
   "metadata": {},
   "outputs": [],
   "source": [
    "import networkx as nx\n",
    "from qokit.parameter_utils import get_fixed_gamma_beta\n",
    "\n",
    "delta = 0.01\n",
    "p = 1\n",
    "g = nx.random_regular_graph(3, n)\n",
    "eval_func = get_evaluate_energy(\n",
    "    g,\n",
    "    None,\n",
    "    p,\n",
    "    objective=\"expectation\",\n",
    "    simulator=\"c\",\n",
    ")\n",
    "\n",
    "gamma, beta = get_fixed_gamma_beta(3, p)\n",
    "beta = [b * 4 for b in beta]\n",
    "initial_value = eval_func(gamma + beta)\n",
    "gamma_values, beta_values = [], []\n",
    "for i in range(p):\n",
    "    gamma[i] -= delta\n",
    "    gamma_values.append(eval_func(gamma + beta))\n",
    "    gamma[i] += delta\n",
    "    beta[i] -= delta\n",
    "    beta_values.append(eval_func(gamma + beta))\n",
    "    beta[i] += delta\n",
    "unweighted = (np.array(gamma_values) - initial_value), (np.array(beta_values) - initial_value)\n",
    "print(unweighted)\n",
    "np.mean(unweighted)"
   ]
  },
  {
   "cell_type": "code",
   "execution_count": null,
   "metadata": {
    "tags": [
     "outputPrepend"
    ]
   },
   "outputs": [],
   "source": [
    "from evaluate_energy import get_evaluate_energy, load_problem\n",
    "import matplotlib.pyplot as plt\n",
    "from scipy.spatial import distance\n",
    "\n",
    "delta = 0.1\n",
    "# seed_pool = [596, 617, 539, 972, 816, 0, 1, 2, 3, 4]\n",
    "data = []\n",
    "for seed in seed_pool:\n",
    "    instance, precomputed_energies = load_problem(problem, n, seed)\n",
    "    eval_func = get_evaluate_energy(\n",
    "        instance,\n",
    "        precomputed_energies,\n",
    "        p,\n",
    "        objective=\"expectation\",\n",
    "        simulator=\"c\",\n",
    "    )\n",
    "    gamma, beta = get_fixed_gamma_beta(3, p)\n",
    "    beta = [b * 4 for b in beta]\n",
    "    initial_value = eval_func(gamma + beta)\n",
    "    gamma_values, beta_values = [], []\n",
    "    for i in range(p):\n",
    "        gamma[i] += delta\n",
    "        gamma_values.append(eval_func(gamma + beta))\n",
    "        gamma[i] -= delta\n",
    "        beta[i] += delta\n",
    "        beta_values.append(eval_func(gamma + beta))\n",
    "        beta[i] -= delta\n",
    "    data.append((np.array(gamma_values) - initial_value) / (np.array(beta_values) - initial_value))\n",
    "    print(data[-1], (np.array(gamma_values) - initial_value) / (np.array(beta_values) - initial_value), (max_ar - initial_ar)[seed])\n",
    "    # data.append(distance.minkowski([instance.edges[e]['weight'] for e in instance.edges], np.ones(instance.number_of_edges())))\n",
    "\n",
    "# plt.scatter((max_ar - initial_ar).flat, np.abs(np.array(data) - data[492]))\n",
    "# plt.scatter((max_ar - initial_ar).flat, np.abs(data))\n",
    "# plt.ylim(0, 1)\n",
    "print(data[492], (max_ar - initial_ar)[492])"
   ]
  },
  {
   "cell_type": "code",
   "execution_count": null,
   "metadata": {},
   "outputs": [],
   "source": [
    "data[404]"
   ]
  },
  {
   "cell_type": "code",
   "execution_count": null,
   "metadata": {},
   "outputs": [],
   "source": [
    "# %matplotlib widget\n",
    "import pickle\n",
    "import numpy as np\n",
    "import matplotlib.pyplot as plt\n",
    "\n",
    "method = \"LN_COBYLA (NLopt)\"\n",
    "problem = \"maxcut\"\n",
    "depth_pool = list(range(1, 6))\n",
    "depth_pool = [1, 5]\n",
    "n = 10\n",
    "seed_pool = list(range(1000))\n",
    "\n",
    "max_ar, initial_ar = [], []\n",
    "for p in depth_pool:\n",
    "    data = pickle.load(\n",
    "        open(\n",
    "            f\"data/{problem}/configs/max_ar/LN_COBYLA (NLopt)-p{p}-q{n}-s0-999.pckl\",\n",
    "            \"rb\",\n",
    "        ),\n",
    "    )\n",
    "    max_ar.append(data[\"result\"][:len(seed_pool)])\n",
    "    data = pickle.load(\n",
    "        open(\n",
    "            f\"data/{problem}/configs/budget/{method}-p{p}-q{n}-s{seed_pool[0]}-{seed_pool[-1]}.pckl\",\n",
    "            \"rb\",\n",
    "        ),\n",
    "    )\n",
    "    initial_ar.append(np.array(data[\"initial_ar\"]))\n",
    "\n",
    "print(np.array(max_ar).shape)\n",
    "plt.figure()\n",
    "plt.violinplot(np.array(max_ar) - np.array(initial_ar))\n"
   ]
  }
 ],
 "metadata": {
  "kernelspec": {
   "display_name": "Python 3.9.4 64-bit ('py39')",
   "metadata": {
    "interpreter": {
     "hash": "fef8a80ccc97f941224394b7562f91d4f38ebd41afd16ade70c95013a6b3df14"
    }
   },
   "name": "python3"
  },
  "language_info": {
   "codemirror_mode": {
    "name": "ipython",
    "version": 3
   },
   "file_extension": ".py",
   "mimetype": "text/x-python",
   "name": "python",
   "nbconvert_exporter": "python",
   "pygments_lexer": "ipython3",
   "version": "3.9.4-final"
  }
 },
 "nbformat": 4,
 "nbformat_minor": 2
}
