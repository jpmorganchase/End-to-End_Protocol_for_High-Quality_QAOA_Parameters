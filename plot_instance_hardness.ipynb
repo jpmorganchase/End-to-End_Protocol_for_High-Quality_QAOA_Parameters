{
 "cells": [
  {
   "cell_type": "code",
   "execution_count": null,
   "metadata": {},
   "outputs": [],
   "source": [
    "# %matplotlib widget\n",
    "import pickle\n",
    "import numpy as np\n",
    "\n",
    "method = \"LN_COBYLA (NLopt)\"\n",
    "problem = \"maxcut\"\n",
    "p = 1\n",
    "n = 12\n",
    "seed_pool = list(range(1000))\n",
    "\n",
    "data = pickle.load(\n",
    "    open(\n",
    "        f\"data/{problem}/configs/max_ar/LN_COBYLA (NLopt)-p{p}-q{n}-s0-999.pckl\",\n",
    "        \"rb\",\n",
    "    ),\n",
    ")\n",
    "max_ar = data[\"result\"][:len(seed_pool)]\n",
    "\n",
    "data = pickle.load(\n",
    "    open(\n",
    "        f\"data/{problem}/configs/budget/{method}-p{p}-q{n}-s{seed_pool[0]}-{seed_pool[-1]}.pckl\",\n",
    "        \"rb\",\n",
    "    ),\n",
    ")\n",
    "config = data[\"config\"]\n",
    "result = data[\"result\"][:,:,:]\n",
    "initial_ar = np.array(data[\"initial_ar\"])\n",
    "\n",
    "print(config, result.shape)\n",
    "shots_pool = [d[\"shots\"] for d in config[\"executor_kwargs\"]][:]\n",
    "maxfev_pool = config[\"maxeval\"][:]\n"
   ]
  },
  {
   "cell_type": "code",
   "execution_count": null,
   "metadata": {
    "tags": [
     "outputPrepend"
    ]
   },
   "outputs": [],
   "source": [
    "from evaluate_energy import get_evaluate_energy, load_problem\n",
    "from qokit.parameter_utils import get_fixed_gamma_beta\n",
    "import matplotlib.pyplot as plt\n",
    "from scipy.spatial import distance\n",
    "\n",
    "# seed_pool = [596, 617, 539, 972, 816, 0, 1, 2, 3, 4]\n",
    "data = []\n",
    "for seed in seed_pool:\n",
    "    instance, precomputed_energies = load_problem(problem, n, seed)\n",
    "    eval_func = get_evaluate_energy(\n",
    "        instance,\n",
    "        precomputed_energies,\n",
    "        p,\n",
    "        objective=\"expectation\",\n",
    "        simulator=\"c\",\n",
    "    )\n",
    "    gamma, beta = get_fixed_gamma_beta(3, p)\n",
    "    gamma = gamma[0]\n",
    "    beta = beta[0] * 4\n",
    "    gamma_diff = (eval_func([gamma-1.5, beta]) - eval_func([gamma, beta]))\n",
    "    beta_diff = (eval_func([gamma, beta-1.5]) - eval_func([gamma, beta]))\n",
    "    data.append(gamma_diff / beta_diff)\n",
    "    print(data[-1], gamma_diff, beta_diff, (max_ar - initial_ar)[seed])\n",
    "    # data.append(distance.minkowski([instance.edges[e]['weight'] for e in instance.edges], np.ones(instance.number_of_edges())))\n",
    "\n",
    "plt.scatter((max_ar - initial_ar).flat, np.abs(np.array(data) - data[596]))\n",
    "# plt.scatter((max_ar - initial_ar).flat, np.abs(data))\n",
    "# plt.ylim(0, 1)"
   ]
  }
 ],
 "metadata": {
  "kernelspec": {
   "display_name": "Python 3.9.4 64-bit ('py39')",
   "metadata": {
    "interpreter": {
     "hash": "fef8a80ccc97f941224394b7562f91d4f38ebd41afd16ade70c95013a6b3df14"
    }
   },
   "name": "python3"
  },
  "language_info": {
   "codemirror_mode": {
    "name": "ipython",
    "version": 3
   },
   "file_extension": ".py",
   "mimetype": "text/x-python",
   "name": "python",
   "nbconvert_exporter": "python",
   "pygments_lexer": "ipython3",
   "version": "3.9.4-final"
  }
 },
 "nbformat": 4,
 "nbformat_minor": 2
}
